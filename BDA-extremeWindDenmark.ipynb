{
 "cells": [
  {
   "cell_type": "markdown",
   "metadata": {},
   "source": [
    "# Predicting extreme wind speeds in Denmark\n",
    "\n",
    "The goal of this notebook is to predict extreme wind speeds in Denmark using data from 1997 - 2017. Increasing extreme weather events in combination with ramping up the wind power production may obviously lead to changes in the wind speeds.\n",
    "In order to investigate the influences of those recent events and identifiyng trends, data from five different weather stations all over Denmark is compared. The data will be modelled in a Bayesian framework aiming at providing information on the probability of storm occurrences in years to come.\n",
    "\n",
    "# Model description\n",
    "\n",
    "The likelihood of the extreme wind speeds will be modeled using a generalized pareto distribution that is used for extreme value analysis. Therefore, a cut-off wind speed is needed at which the data will be trimmed. The generalized pareto distribution has three parameters, the location parameter $ \\mu $, the scale parameter $\\sigma$ and the shape parameter $\\xi$. The probability density function is given as\n",
    "$$\n",
    "f_{\\xi,\\mu,\\sigma}(x) = \\frac{1}{\\sigma} \\left( 1 + \\frac{\\xi(x-\\mu)}{\\sigma} \\right)^{\\left( -\\frac{1}{\\xi} - 1 \\right)}\n",
    "$$\n",
    "<br>\n",
    "where the validity is given for x $ \\geq \\mu$ when $\\xi  \\geq$ 0 and $\\mu \\leq x \\leq \\mu - \\sigma/\\xi$ when $\\xi < 0$. In order to find appropriate tail cut off values, Q-Q plots were used to identify possible candidates. This has to ensure a homogeneous behavior of the tail as well as there are enough data points left in the tail.\n",
    "\n",
    "# Setting up the python environment\n",
    "For the following data visualizations, in a first step the python environment is prepared."
   ]
  },
  {
   "cell_type": "code",
   "execution_count": 5,
   "metadata": {
    "scrolled": true
   },
   "outputs": [],
   "source": [
    "%matplotlib inline\n",
    "\n",
    "import numpy as np\n",
    "import matplotlib as mpl\n",
    "import matplotlib.pyplot as plt\n",
    "\n",
    "import pystan"
   ]
  },
  {
   "cell_type": "code",
   "execution_count": 7,
   "metadata": {},
   "outputs": [],
   "source": [
    "# default plot settings\n",
    "plt.rc('font', size = 12)"
   ]
  },
  {
   "cell_type": "code",
   "execution_count": null,
   "metadata": {},
   "outputs": [],
   "source": []
  }
 ],
 "metadata": {
  "kernelspec": {
   "display_name": "Python 3",
   "language": "python",
   "name": "python3"
  },
  "language_info": {
   "codemirror_mode": {
    "name": "ipython",
    "version": 3
   },
   "file_extension": ".py",
   "mimetype": "text/x-python",
   "name": "python",
   "nbconvert_exporter": "python",
   "pygments_lexer": "ipython3",
   "version": "3.6.4"
  }
 },
 "nbformat": 4,
 "nbformat_minor": 2
}
